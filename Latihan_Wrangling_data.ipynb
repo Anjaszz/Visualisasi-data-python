{
  "cells": [
    {
      "cell_type": "markdown",
      "metadata": {
        "colab_type": "text",
        "id": "view-in-github"
      },
      "source": [
        "<a href=\"https://colab.research.google.com/github/Anjaszz/Visualisasi-data-python/blob/master/Latihan_Wrangling_data.ipynb\" target=\"_parent\"><img src=\"https://colab.research.google.com/assets/colab-badge.svg\" alt=\"Open In Colab\"/></a>"
      ]
    },
    {
      "cell_type": "markdown",
      "metadata": {
        "id": "u73FSC3q7WaN"
      },
      "source": [
        "# **Latihan Wragling data - Anjas Rani**"
      ]
    },
    {
      "cell_type": "markdown",
      "metadata": {
        "id": "MfFZGAUJ71yT"
      },
      "source": [
        "# **1. Gathring Data**\n",
        "Tahap mengumpulkan semua data yang dibutuhkan Lalu Load data"
      ]
    },
    {
      "cell_type": "code",
      "execution_count": null,
      "metadata": {
        "id": "hOzg7Ygtxhyq"
      },
      "outputs": [],
      "source": [
        "import numpy as np\n",
        "import pandas as pd\n",
        "import matplotlib.pyplot as plt\n",
        "import seaborn as sns\n",
        "\n",
        "customers_df = pd.read_csv(\"https://raw.githubusercontent.com/dicodingacademy/dicoding_dataset/main/DicodingCollection/customers.csv\")\n",
        "customers_df.head()\n",
        "orders_df = pd.read_csv(\"https://raw.githubusercontent.com/dicodingacademy/dicoding_dataset/main/DicodingCollection/orders.csv\")\n",
        "orders_df.head()\n",
        "product_df = pd.read_csv(\"https://raw.githubusercontent.com/dicodingacademy/dicoding_dataset/main/DicodingCollection/products.csv\")\n",
        "product_df.head()\n",
        "sales_df = pd.read_csv(\"https://raw.githubusercontent.com/dicodingacademy/dicoding_dataset/main/DicodingCollection/sales.csv\")\n",
        "sales_df.head()"
      ]
    },
    {
      "cell_type": "markdown",
      "metadata": {
        "id": "Wlt7zTGC8vrO"
      },
      "source": [
        "# **2. Assesing Data**\n",
        "Pada tahap ini kita Melakukan Penilaian Kualitas pada seluruh data"
      ]
    },
    {
      "cell_type": "code",
      "execution_count": null,
      "metadata": {
        "id": "r-cMF0ch6oCF"
      },
      "outputs": [],
      "source": [
        "#Order\n",
        "orders_df.info()\n",
        "print(\"Jumlah duplikasi: \",orders_df.duplicated().sum())\n",
        "orders_df.describe()"
      ]
    },
    {
      "cell_type": "code",
      "execution_count": null,
      "metadata": {
        "colab": {
          "base_uri": "https://localhost:8080/",
          "height": 595
        },
        "id": "Z8wLaJyi8h07",
        "outputId": "46b4ea56-5be3-4857-a7e3-f9372cc1fc8b"
      },
      "outputs": [],
      "source": [
        "#Costumer\n",
        "customers_df.info()\n",
        "customers_df.isna().sum()\n",
        "print(\"Jumlah duplikasi: \", customers_df.duplicated().sum())\n",
        "customers_df.describe()"
      ]
    },
    {
      "cell_type": "code",
      "execution_count": null,
      "metadata": {
        "id": "Q18BblNo9WyC"
      },
      "outputs": [],
      "source": [
        "# Product\n",
        "product_df.info()\n",
        "print(\"Jumlah duplikasi: \", product_df.duplicated().sum())\n",
        "product_df.describe()"
      ]
    },
    {
      "cell_type": "code",
      "execution_count": null,
      "metadata": {
        "id": "jncIrHlq9ZVk"
      },
      "outputs": [],
      "source": [
        "# Sales\n",
        "sales_df.info()\n",
        "sales_df.isna().sum()\n",
        "print(\"Jumlah duplikasi: \", sales_df.duplicated().sum())\n",
        "sales_df.describe()"
      ]
    },
    {
      "cell_type": "markdown",
      "metadata": {
        "id": "KyWngAc-9uOS"
      },
      "source": [
        "# **3. Cleaning Data**\n",
        "Pada tahap ini, kita akan membersihkan berbagai masalah yang telah teridentifikasi dalam proses assessing data diatas."
      ]
    },
    {
      "cell_type": "code",
      "execution_count": null,
      "metadata": {
        "colab": {
          "base_uri": "https://localhost:8080/",
          "height": 318
        },
        "id": "plFD3PTj96QU",
        "outputId": "73462ef7-c03c-4630-bf04-f8f9f69bd5ec"
      },
      "outputs": [],
      "source": [
        "##Clean Data Costumer\n",
        "#Hapus data duplicate\n",
        "customers_df.drop_duplicates(inplace=True)\n",
        "print(\"Jumlah duplikasi: \", customers_df.duplicated().sum()) #untuk cek apakah data masih ada yang duplikat\n",
        "\n",
        "#Mengatasi Mising Value menggunakan metode imputation\n",
        "customers_df[customers_df.gender.isna()] #menampilkan baris data yang mengandung missing value pada kolom gender\n",
        "customers_df.gender.value_counts() # mengidentifikasi nilai yang dominan.\n",
        "customers_df.fillna(value=\"Prefer not to say\", inplace=True) #Proses penggantian dengan nilai yang dominan\n",
        "customers_df.isna().sum()\n",
        "\n",
        "#Menangani inaccurate value\n",
        "customers_df[customers_df.age == customers_df.age.max()] #menampilkan baris data yang memiliki nilai age maksimum\n",
        "customers_df.age.replace(customers_df.age.max(), 70, inplace=True)\n",
        "customers_df[customers_df.age == customers_df.age.max()] # cek apakah sudah benar\n",
        "customers_df.age.replace(customers_df.age.max(), 50, inplace=True)\n",
        "customers_df.describe()"
      ]
    },
    {
      "cell_type": "code",
      "execution_count": null,
      "metadata": {
        "id": "HrbCOL4Y-Ofk"
      },
      "outputs": [],
      "source": [
        "##Clean Data Orders\n",
        "#mengubah tipe data pada kolom order_date & delivery_date menjadi datetime\n",
        "datetime_columns = [\"order_date\", \"delivery_date\"]\n",
        "\n",
        "for column in datetime_columns:\n",
        "  orders_df[column] = pd.to_datetime(orders_df[column])\n",
        "orders_df.info() # Cek apakah berhasil"
      ]
    },
    {
      "cell_type": "code",
      "execution_count": 37,
      "metadata": {
        "colab": {
          "base_uri": "https://localhost:8080/"
        },
        "id": "hCZ6GsxIC76J",
        "outputId": "1469e797-9bf2-4593-eca2-88e4d755e8b3"
      },
      "outputs": [
        {
          "name": "stdout",
          "output_type": "stream",
          "text": [
            "Jumlah duplikasi:  0\n"
          ]
        }
      ],
      "source": [
        "##Clean Data Product\n",
        "#Menghapus Duplikat\n",
        "product_df.drop_duplicates(inplace=True)\n",
        "print(\"Jumlah duplikasi: \", product_df.duplicated().sum())"
      ]
    },
    {
      "cell_type": "code",
      "execution_count": null,
      "metadata": {
        "id": "JVJ-x5fiDMAV"
      },
      "outputs": [],
      "source": [
        "##Clean Data Sales\n",
        "#Menangani Mising Value\n",
        "sales_df[sales_df.total_price.isna()]\n",
        "#Karena nilai total_price merupakan hasil perkalian antara price_per_unit dan quantity jadi menggunakan Pola ini\n",
        "sales_df[\"total_price\"] = sales_df[\"price_per_unit\"] * sales_df[\"quantity\"]\n",
        "sales_df.isna().sum() # Cek hasil"
      ]
    },
    {
      "cell_type": "markdown",
      "metadata": {
        "id": "zEo9KS4HEUHc"
      },
      "source": [
        "# **END Section**\n",
        "proses data wrangling untuk menyiapkan data sebelum dianalisis telah selesai"
      ]
    }
  ],
  "metadata": {
    "colab": {
      "authorship_tag": "ABX9TyPpWAgSedcjFQFng+TrMVcD",
      "include_colab_link": true,
      "provenance": []
    },
    "kernelspec": {
      "display_name": "Python 3",
      "name": "python3"
    },
    "language_info": {
      "name": "python"
    }
  },
  "nbformat": 4,
  "nbformat_minor": 0
}
